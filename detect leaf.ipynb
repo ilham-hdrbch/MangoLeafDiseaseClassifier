{
 "cells": [
  {
   "cell_type": "code",
   "execution_count": 2,
   "id": "b15a27d4-de5d-46ce-93d1-db71d13b8ff7",
   "metadata": {},
   "outputs": [],
   "source": [
    "import cv2\n",
    "import numpy as np"
   ]
  },
  {
   "cell_type": "code",
   "execution_count": 9,
   "id": "d5621344-e5d6-4d29-a860-dc039d02d952",
   "metadata": {},
   "outputs": [
    {
     "name": "stdout",
     "output_type": "stream",
     "text": [
      "Image is likely a tree. Proceeding with leaf detection.\n",
      "Leaves detected: 5\n",
      "Leaf found at x=78, y=11, width=32, height=32\n",
      "Leaf found at x=79, y=34, width=48, height=48\n",
      "Leaf found at x=85, y=55, width=51, height=51\n",
      "Leaf found at x=94, y=43, width=81, height=81\n",
      "Leaf found at x=71, y=68, width=96, height=96\n"
     ]
    }
   ],
   "source": [
    "def is_tree_image(im):\n",
    "\n",
    "    hsv = cv2.cvtColor(im, cv2.COLOR_BGR2HSV)\n",
    "    \n",
    "    lower_green = np.array([35, 40, 40])\n",
    "    upper_green = np.array([85, 255, 255])\n",
    "    \n",
    "    mask = cv2.inRange(hsv, lower_green, upper_green)\n",
    "    \n",
    "    green_ratio = cv2.countNonZero(mask) / (im.shape[0] * im.shape[1])\n",
    "    \n",
    "    return green_ratio > 0.1  # Adjust this threshold as needed\n",
    "\n",
    "\n",
    "img = cv2.imread('T3.jpg')\n",
    "if img is None:\n",
    "    print(\"Error loading image\")\n",
    "    exit()\n",
    "\n",
    "\n",
    "if is_tree_image(img):\n",
    "    print(\"Image is likely a tree. Proceeding with leaf detection.\")\n",
    "    leaf_cascade = cv2.CascadeClassifier('cascade1.xml')\n",
    "    leaves = leaf_cascade.detectMultiScale(img, scaleFactor=1.05, minNeighbors=3)\n",
    "    if len(leaves) == 0:\n",
    "        print(\"No leaf detected!\")\n",
    "    else:\n",
    "\n",
    "        print(f\"Leaves detected: {len(leaves)}\")\n",
    "        for (x, y, w, h) in leaves:\n",
    "            print(f\"Leaf found at x={x}, y={y}, width={w}, height={h}\")\n",
    "    \n",
    "        # Find the largest leaf\n",
    "        largest_leaf = None\n",
    "        max_area = 0\n",
    "        for (x, y, w, h) in leaves:\n",
    "            area = w * h\n",
    "            if area > max_area:\n",
    "                max_area = area\n",
    "                largest_leaf = (x, y, w, h)\n",
    "    \n",
    "        if largest_leaf:\n",
    "            \n",
    "            x, y, w, h = largest_leaf\n",
    "            cv2.rectangle(img, (x, y), (x + w, y + h), (255, 0, 0), 2)\n",
    "    \n",
    "            largest_leaf_img = img[y:y + h, x:x + w]\n",
    "    \n",
    "            resized_leaf_img = cv2.resize(largest_leaf_img, (224, 224))\n",
    "    \n",
    "            normalized_leaf_img = resized_leaf_img.astype('float32') / 255.0\n",
    "    \n",
    "            cv2.imshow('Normalized Resized Leaf', normalized_leaf_img)\n",
    "            cv2.waitKey(0)\n",
    "            cv2.destroyAllWindows()\n",
    "    \n",
    "        else:\n",
    "            print(\"No leaf detected!\")\n",
    "else:\n",
    "    print(\"Image is likely a leaf. Skipping leaf detection and proceeding with classification.\")\n",
    "    resized_img = cv2.resize(img, (224, 224))\n",
    "    normalized_img = resized_img.astype('float32') / 255.0\n",
    "\n",
    "\n",
    "    cv2.imshow('Normalized Resized Leaf', normalized_img)\n",
    "    cv2.waitKey(0)\n",
    "    cv2.destroyAllWindows()\n"
   ]
  },
  {
   "cell_type": "code",
   "execution_count": null,
   "id": "dfa325f1-93ad-4a27-944b-cdc4aaa7cdd9",
   "metadata": {},
   "outputs": [],
   "source": []
  }
 ],
 "metadata": {
  "kernelspec": {
   "display_name": "Python 3 (ipykernel)",
   "language": "python",
   "name": "python3"
  },
  "language_info": {
   "codemirror_mode": {
    "name": "ipython",
    "version": 3
   },
   "file_extension": ".py",
   "mimetype": "text/x-python",
   "name": "python",
   "nbconvert_exporter": "python",
   "pygments_lexer": "ipython3",
   "version": "3.12.2"
  }
 },
 "nbformat": 4,
 "nbformat_minor": 5
}
